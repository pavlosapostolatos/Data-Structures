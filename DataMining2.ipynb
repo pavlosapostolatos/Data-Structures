{
  "nbformat": 4,
  "nbformat_minor": 0,
  "metadata": {
    "colab": {
      "name": "DataMining2.ipynb",
      "provenance": [],
      "collapsed_sections": [],
      "include_colab_link": true
    },
    "kernelspec": {
      "name": "python3",
      "display_name": "Python 3"
    },
    "language_info": {
      "name": "python"
    }
  },
  "cells": [
    {
      "cell_type": "markdown",
      "metadata": {
        "id": "view-in-github",
        "colab_type": "text"
      },
      "source": [
        "<a href=\"https://colab.research.google.com/github/pavlosapostolatos/Data-Structures/blob/master/DataMining2.ipynb\" target=\"_parent\"><img src=\"https://colab.research.google.com/assets/colab-badge.svg\" alt=\"Open In Colab\"/></a>"
      ]
    },
    {
      "cell_type": "markdown",
      "metadata": {
        "id": "rIy0eC_xN2O6"
      },
      "source": [
        "# Στοιχεία φοιτητών\n",
        "\n",
        "**Συμμετέχοντες:** \\\n",
        "ΤΥΠΑΛΔΟΣ-ΠΑΥΛΟΣ ΑΠΟΣΤΟΛΑΤΟΣ 1115201800009\n",
        "\n",
        "ΝΙΚΟΛΑΟΣ ΠΑΣΣΑΚΟΣ ΧΑΤΖΗΟΡΙΔΗΣ 1115201800156"
      ]
    },
    {
      "cell_type": "markdown",
      "metadata": {
        "id": "PmbSl2j0NxS_"
      },
      "source": [
        "# Initialisation"
      ]
    },
    {
      "cell_type": "code",
      "metadata": {
        "id": "vU6hmoDS_Wdn",
        "colab": {
          "base_uri": "https://localhost:8080/"
        },
        "outputId": "3c3f8e30-a2c1-4ebd-c155-3a41affe00e6"
      },
      "source": [
        "import pandas as pd\n",
        "import matplotlib.pyplot as plt\n",
        "from matplotlib.pyplot import figure\n",
        "import numpy as np\n",
        "from sklearn.preprocessing import PolynomialFeatures\n",
        "import nltk\n",
        "import re\n",
        "from sklearn.feature_extraction.text import CountVectorizer\n",
        "from sklearn.feature_extraction.text import TfidfVectorizer\n",
        "from gensim.models import Word2Vec\n",
        "from sklearn.linear_model import LogisticRegression\n",
        "from sklearn.naive_bayes import GaussianNB\n",
        "from sklearn import svm\n",
        "from sklearn.ensemble import RandomForestClassifier\n",
        "from sklearn.datasets import make_classification\n",
        "from sklearn.metrics import f1_score\n",
        "from gensim.parsing.preprocessing import remove_stopwords\n",
        "from google.colab import drive\n",
        "drive.mount('/content/drive')\n",
        "path = \"/content/drive/MyDrive/DataMining/\""
      ],
      "execution_count": null,
      "outputs": [
        {
          "output_type": "stream",
          "name": "stdout",
          "text": [
            "Drive already mounted at /content/drive; to attempt to forcibly remount, call drive.mount(\"/content/drive\", force_remount=True).\n"
          ]
        }
      ]
    },
    {
      "cell_type": "code",
      "metadata": {
        "id": "JW4bkrG_9PmQ"
      },
      "source": [
        "true_frame = pd.read_csv(path + \"True.csv\")\n",
        "fake_frame = pd.read_csv(path + \"Fake.csv\")"
      ],
      "execution_count": null,
      "outputs": []
    },
    {
      "cell_type": "markdown",
      "metadata": {
        "id": "dz2NzgDGyva_"
      },
      "source": [
        "# Προεπεξεργασία δεδομένων"
      ]
    },
    {
      "cell_type": "code",
      "metadata": {
        "id": "YfXWSvVeO9Bg"
      },
      "source": [
        "for i in range(len(true_frame)):\n",
        "  for j in range(2):#title and text\n",
        "    true_frame.iat[i,j] = true_frame.iat[i,j].lower()\n",
        "    true_frame.iat[i,j] = re.sub(r'\\W', ' ', true_frame.iat[i,j])\n",
        "    true_frame.iat[i,j] = re.sub(r'\\s+', ' ', true_frame.iat[i,j])\n",
        "for i in range(len(fake_frame)):\n",
        "  for j in range(2):\n",
        "    fake_frame.iat[i,j] = fake_frame.iat[i,j].lower()\n",
        "    fake_frame.iat[i,j] = re.sub(r'\\W', ' ', fake_frame.iat[i,j])\n",
        "    fake_frame.iat[i,j] = re.sub(r'\\s+', ' ', fake_frame.iat[i,j])\n"
      ],
      "execution_count": null,
      "outputs": []
    },
    {
      "cell_type": "code",
      "metadata": {
        "id": "YWf6HvAPJZ8-"
      },
      "source": [
        "true_frame = true_frame.drop(true_frame[true_frame.text.str.len() < 2].index)\n",
        "fake_frame = fake_frame.drop(fake_frame[fake_frame.text.str.len() < 2].index)"
      ],
      "execution_count": null,
      "outputs": []
    },
    {
      "cell_type": "markdown",
      "metadata": {
        "id": "LcbytixHzWYs"
      },
      "source": [
        "# Οπτικοποίηση Δεδομένων"
      ]
    },
    {
      "cell_type": "code",
      "metadata": {
        "colab": {
          "base_uri": "https://localhost:8080/",
          "height": 380
        },
        "id": "yv7FrFADBAQo",
        "outputId": "e834f3fc-1bf4-4c95-c1de-fb30d2ad86dc"
      },
      "source": [
        "print(\"True News Examples:\")\n",
        "pd.DataFrame(true_frame['title']).head(10)"
      ],
      "execution_count": null,
      "outputs": [
        {
          "output_type": "stream",
          "name": "stdout",
          "text": [
            "True News Examples:\n"
          ]
        },
        {
          "output_type": "execute_result",
          "data": {
            "text/html": [
              "<div>\n",
              "<style scoped>\n",
              "    .dataframe tbody tr th:only-of-type {\n",
              "        vertical-align: middle;\n",
              "    }\n",
              "\n",
              "    .dataframe tbody tr th {\n",
              "        vertical-align: top;\n",
              "    }\n",
              "\n",
              "    .dataframe thead th {\n",
              "        text-align: right;\n",
              "    }\n",
              "</style>\n",
              "<table border=\"1\" class=\"dataframe\">\n",
              "  <thead>\n",
              "    <tr style=\"text-align: right;\">\n",
              "      <th></th>\n",
              "      <th>title</th>\n",
              "    </tr>\n",
              "  </thead>\n",
              "  <tbody>\n",
              "    <tr>\n",
              "      <th>0</th>\n",
              "      <td>as u s budget fight looms republicans flip the...</td>\n",
              "    </tr>\n",
              "    <tr>\n",
              "      <th>1</th>\n",
              "      <td>u s military to accept transgender recruits on...</td>\n",
              "    </tr>\n",
              "    <tr>\n",
              "      <th>2</th>\n",
              "      <td>senior u s republican senator let mr mueller d...</td>\n",
              "    </tr>\n",
              "    <tr>\n",
              "      <th>3</th>\n",
              "      <td>fbi russia probe helped by australian diplomat...</td>\n",
              "    </tr>\n",
              "    <tr>\n",
              "      <th>4</th>\n",
              "      <td>trump wants postal service to charge much more...</td>\n",
              "    </tr>\n",
              "    <tr>\n",
              "      <th>5</th>\n",
              "      <td>white house congress prepare for talks on spen...</td>\n",
              "    </tr>\n",
              "    <tr>\n",
              "      <th>6</th>\n",
              "      <td>trump says russia probe will be fair but timel...</td>\n",
              "    </tr>\n",
              "    <tr>\n",
              "      <th>7</th>\n",
              "      <td>factbox trump on twitter dec 29 approval ratin...</td>\n",
              "    </tr>\n",
              "    <tr>\n",
              "      <th>8</th>\n",
              "      <td>trump on twitter dec 28 global warming</td>\n",
              "    </tr>\n",
              "    <tr>\n",
              "      <th>9</th>\n",
              "      <td>alabama official to certify senator elect jone...</td>\n",
              "    </tr>\n",
              "  </tbody>\n",
              "</table>\n",
              "</div>"
            ],
            "text/plain": [
              "                                               title\n",
              "0  as u s budget fight looms republicans flip the...\n",
              "1  u s military to accept transgender recruits on...\n",
              "2  senior u s republican senator let mr mueller d...\n",
              "3  fbi russia probe helped by australian diplomat...\n",
              "4  trump wants postal service to charge much more...\n",
              "5  white house congress prepare for talks on spen...\n",
              "6  trump says russia probe will be fair but timel...\n",
              "7  factbox trump on twitter dec 29 approval ratin...\n",
              "8             trump on twitter dec 28 global warming\n",
              "9  alabama official to certify senator elect jone..."
            ]
          },
          "metadata": {},
          "execution_count": 5
        }
      ]
    },
    {
      "cell_type": "code",
      "metadata": {
        "colab": {
          "base_uri": "https://localhost:8080/",
          "height": 380
        },
        "id": "U411Txl5zcD6",
        "outputId": "dddc4ae6-b9ef-47bd-9f97-a6f61d804660"
      },
      "source": [
        "print(\"Fake News Examples:\")\n",
        "pd.DataFrame(fake_frame['title']).head(10)"
      ],
      "execution_count": null,
      "outputs": [
        {
          "output_type": "stream",
          "name": "stdout",
          "text": [
            "Fake News Examples:\n"
          ]
        },
        {
          "output_type": "execute_result",
          "data": {
            "text/html": [
              "<div>\n",
              "<style scoped>\n",
              "    .dataframe tbody tr th:only-of-type {\n",
              "        vertical-align: middle;\n",
              "    }\n",
              "\n",
              "    .dataframe tbody tr th {\n",
              "        vertical-align: top;\n",
              "    }\n",
              "\n",
              "    .dataframe thead th {\n",
              "        text-align: right;\n",
              "    }\n",
              "</style>\n",
              "<table border=\"1\" class=\"dataframe\">\n",
              "  <thead>\n",
              "    <tr style=\"text-align: right;\">\n",
              "      <th></th>\n",
              "      <th>title</th>\n",
              "    </tr>\n",
              "  </thead>\n",
              "  <tbody>\n",
              "    <tr>\n",
              "      <th>0</th>\n",
              "      <td>donald trump sends out embarrassing new year ...</td>\n",
              "    </tr>\n",
              "    <tr>\n",
              "      <th>1</th>\n",
              "      <td>drunk bragging trump staffer started russian ...</td>\n",
              "    </tr>\n",
              "    <tr>\n",
              "      <th>2</th>\n",
              "      <td>sheriff david clarke becomes an internet joke...</td>\n",
              "    </tr>\n",
              "    <tr>\n",
              "      <th>3</th>\n",
              "      <td>trump is so obsessed he even has obama s name...</td>\n",
              "    </tr>\n",
              "    <tr>\n",
              "      <th>4</th>\n",
              "      <td>pope francis just called out donald trump dur...</td>\n",
              "    </tr>\n",
              "    <tr>\n",
              "      <th>5</th>\n",
              "      <td>racist alabama cops brutalize black boy while...</td>\n",
              "    </tr>\n",
              "    <tr>\n",
              "      <th>6</th>\n",
              "      <td>fresh off the golf course trump lashes out at...</td>\n",
              "    </tr>\n",
              "    <tr>\n",
              "      <th>7</th>\n",
              "      <td>trump said some insanely racist stuff inside ...</td>\n",
              "    </tr>\n",
              "    <tr>\n",
              "      <th>8</th>\n",
              "      <td>former cia director slams trump over un bully...</td>\n",
              "    </tr>\n",
              "    <tr>\n",
              "      <th>9</th>\n",
              "      <td>watch brand new pro trump ad features so much...</td>\n",
              "    </tr>\n",
              "  </tbody>\n",
              "</table>\n",
              "</div>"
            ],
            "text/plain": [
              "                                               title\n",
              "0   donald trump sends out embarrassing new year ...\n",
              "1   drunk bragging trump staffer started russian ...\n",
              "2   sheriff david clarke becomes an internet joke...\n",
              "3   trump is so obsessed he even has obama s name...\n",
              "4   pope francis just called out donald trump dur...\n",
              "5   racist alabama cops brutalize black boy while...\n",
              "6   fresh off the golf course trump lashes out at...\n",
              "7   trump said some insanely racist stuff inside ...\n",
              "8   former cia director slams trump over un bully...\n",
              "9   watch brand new pro trump ad features so much..."
            ]
          },
          "metadata": {},
          "execution_count": 6
        }
      ]
    },
    {
      "cell_type": "markdown",
      "metadata": {
        "id": "NYsH6e4i0R0_"
      },
      "source": [
        "# Μέσος όρος χαρακτήρων"
      ]
    },
    {
      "cell_type": "markdown",
      "metadata": {
        "id": "CwQcWQJ_0izD"
      },
      "source": [
        "## Titles"
      ]
    },
    {
      "cell_type": "code",
      "metadata": {
        "colab": {
          "base_uri": "https://localhost:8080/",
          "height": 112
        },
        "id": "zlrrwcLKIuj-",
        "outputId": "065836e1-d2af-46b3-b8a1-f64987fe838b"
      },
      "source": [
        "count_frame = pd.DataFrame(columns=['News Title', 'Median of characters'])\n",
        "true_title_med = int(true_frame.title.str.len().median())\n",
        "fake_title_med = int(fake_frame.title.str.len().median())\n",
        "count_frame.loc[0] = [\"True\", true_title_med]\n",
        "count_frame.loc[1] = [\"Fake\", fake_title_med]\n",
        "count_frame"
      ],
      "execution_count": null,
      "outputs": [
        {
          "output_type": "execute_result",
          "data": {
            "text/html": [
              "<div>\n",
              "<style scoped>\n",
              "    .dataframe tbody tr th:only-of-type {\n",
              "        vertical-align: middle;\n",
              "    }\n",
              "\n",
              "    .dataframe tbody tr th {\n",
              "        vertical-align: top;\n",
              "    }\n",
              "\n",
              "    .dataframe thead th {\n",
              "        text-align: right;\n",
              "    }\n",
              "</style>\n",
              "<table border=\"1\" class=\"dataframe\">\n",
              "  <thead>\n",
              "    <tr style=\"text-align: right;\">\n",
              "      <th></th>\n",
              "      <th>News Title</th>\n",
              "      <th>Median of characters</th>\n",
              "    </tr>\n",
              "  </thead>\n",
              "  <tbody>\n",
              "    <tr>\n",
              "      <th>0</th>\n",
              "      <td>True</td>\n",
              "      <td>63</td>\n",
              "    </tr>\n",
              "    <tr>\n",
              "      <th>1</th>\n",
              "      <td>Fake</td>\n",
              "      <td>88</td>\n",
              "    </tr>\n",
              "  </tbody>\n",
              "</table>\n",
              "</div>"
            ],
            "text/plain": [
              "  News Title Median of characters\n",
              "0       True                   63\n",
              "1       Fake                   88"
            ]
          },
          "metadata": {},
          "execution_count": 7
        }
      ]
    },
    {
      "cell_type": "markdown",
      "metadata": {
        "id": "t1INNrhj0k3v"
      },
      "source": [
        "## Text"
      ]
    },
    {
      "cell_type": "code",
      "metadata": {
        "colab": {
          "base_uri": "https://localhost:8080/",
          "height": 112
        },
        "id": "pZ8Rlw4zL9mw",
        "outputId": "bf33d3db-cbba-4f7a-c94e-84c06462dfa0"
      },
      "source": [
        "count_frame = pd.DataFrame(columns=['News Text', 'Median of characters'])\n",
        "true_text_med = int(true_frame.text.str.len().median())\n",
        "fake_text_med = int(fake_frame.text.str.len().median())\n",
        "count_frame.loc[0] = [\"True\", true_text_med]\n",
        "count_frame.loc[1] = [\"Fake\", fake_text_med]\n",
        "count_frame"
      ],
      "execution_count": null,
      "outputs": [
        {
          "output_type": "execute_result",
          "data": {
            "text/html": [
              "<div>\n",
              "<style scoped>\n",
              "    .dataframe tbody tr th:only-of-type {\n",
              "        vertical-align: middle;\n",
              "    }\n",
              "\n",
              "    .dataframe tbody tr th {\n",
              "        vertical-align: top;\n",
              "    }\n",
              "\n",
              "    .dataframe thead th {\n",
              "        text-align: right;\n",
              "    }\n",
              "</style>\n",
              "<table border=\"1\" class=\"dataframe\">\n",
              "  <thead>\n",
              "    <tr style=\"text-align: right;\">\n",
              "      <th></th>\n",
              "      <th>News Text</th>\n",
              "      <th>Median of characters</th>\n",
              "    </tr>\n",
              "  </thead>\n",
              "  <tbody>\n",
              "    <tr>\n",
              "      <th>0</th>\n",
              "      <td>True</td>\n",
              "      <td>2168</td>\n",
              "    </tr>\n",
              "    <tr>\n",
              "      <th>1</th>\n",
              "      <td>Fake</td>\n",
              "      <td>2149</td>\n",
              "    </tr>\n",
              "  </tbody>\n",
              "</table>\n",
              "</div>"
            ],
            "text/plain": [
              "  News Text Median of characters\n",
              "0      True                 2168\n",
              "1      Fake                 2149"
            ]
          },
          "metadata": {},
          "execution_count": 8
        }
      ]
    },
    {
      "cell_type": "markdown",
      "metadata": {
        "id": "0QUla1t70t55"
      },
      "source": [
        "## Διαγράμματα"
      ]
    },
    {
      "cell_type": "markdown",
      "metadata": {
        "id": "9w3jt4wZ5l3N"
      },
      "source": [
        "### Titles"
      ]
    },
    {
      "cell_type": "code",
      "metadata": {
        "colab": {
          "base_uri": "https://localhost:8080/",
          "height": 301
        },
        "id": "2w6UqNMZODU9",
        "outputId": "0fcb43d3-2226-4924-d906-36a4b82c44d9"
      },
      "source": [
        "s = true_frame.title.groupby(true_frame.title.str.len()).count()\n",
        "x = list(s.index)\n",
        "y = list(true_frame.title.groupby(true_frame.title.str.len()).count())\n",
        "plt.plot(x,y, '.', color=\"lime\", label = \"True News\")\n",
        "\n",
        "s = fake_frame.title.groupby(fake_frame.title.str.len()).count()\n",
        "x = list(s.index)\n",
        "y = list(fake_frame.title.groupby(fake_frame.title.str.len()).count())\n",
        "plt.plot(x,y, \".\", color=\"red\", label = \"Fake News\")\n",
        "\n",
        "plt.ylabel(\"News Number\")\n",
        "plt.xlabel(\"Character Count\")\n",
        "plt.axvline(true_title_med, 0, 1, color=\"green\", label=\"True Average\")\n",
        "plt.axvline(fake_title_med, 0, 1, color=\"brown\", label=\"Fake Average\")\n",
        "plt.legend(loc=\"upper right\")\n",
        "plt.show()\n",
        "print()"
      ],
      "execution_count": null,
      "outputs": [
        {
          "output_type": "display_data",
          "data": {
            "image/png": "[encoded data removed]",
            "text/plain": [
              "<Figure size 432x288 with 1 Axes>"
            ]
          },
          "metadata": {
            "needs_background": "light"
          }
        },
        {
          "output_type": "stream",
          "name": "stdout",
          "text": [
            "\n"
          ]
        }
      ]
    },
    {
      "cell_type": "markdown",
      "metadata": {
        "id": "9gD-81qs5sIJ"
      },
      "source": [
        "### Text"
      ]
    },
    {
      "cell_type": "code",
      "metadata": {
        "colab": {
          "base_uri": "https://localhost:8080/",
          "height": 576
        },
        "id": "K8SaOqD25rT_",
        "outputId": "154f8070-2ff8-4859-dac8-9bec9aeb51d8"
      },
      "source": [
        "s = true_frame.text.groupby(true_frame.text.str.len()).count()\n",
        "x = list(s.index)\n",
        "y = list(true_frame.text.groupby(true_frame.text.str.len()).count())\n",
        "rolling_mean = s.rolling(window=50).mean()\n",
        "\n",
        "plt.plot(x,y, \".\", color=\"lime\", label='True News')\n",
        "plt.plot(x,rolling_mean, color=\"green\", label='±50 Character Average')\n",
        "plt.axvline(true_text_med, 0, 1, color=\"black\", label=\"Average\")\n",
        "plt.ylabel(\"News Number\")\n",
        "plt.xlabel(\"Character Count\")\n",
        "plt.legend(loc='upper right')\n",
        "plt.show()\n",
        "print()\n",
        "\n",
        "s = fake_frame.text.groupby(fake_frame.text.str.len()).count()\n",
        "x = list(s.index)\n",
        "y = list(fake_frame.text.groupby(fake_frame.text.str.len()).count())\n",
        "rolling_mean = s.rolling(window=50).mean()\n",
        "\n",
        "plt.plot(x,y, \".\", color=\"red\", label='False News')\n",
        "plt.plot(x,rolling_mean, color=\"brown\", label='±50 Character Average')\n",
        "plt.axvline(fake_text_med, 0, 1, color=\"black\", label=\"Average\")\n",
        "plt.ylabel(\"News Number\")\n",
        "plt.xlabel(\"Character Count\")\n",
        "plt.legend(loc='upper right')\n",
        "plt.show()\n",
        "print()"
      ],
      "execution_count": null,
      "outputs": [
        {
          "output_type": "display_data",
          "data": {
            "image/png": "[encoded data removed]",
            "text/plain": [
              "<Figure size 432x288 with 1 Axes>"
            ]
          },
          "metadata": {
            "needs_background": "light"
          }
        },
        {
          "output_type": "stream",
          "name": "stdout",
          "text": [
            "\n"
          ]
        },
        {
          "output_type": "display_data",
          "data": {
            "image/png": "[encoded data removed]",
            "text/plain": [
              "<Figure size 432x288 with 1 Axes>"
            ]
          },
          "metadata": {
            "needs_background": "light"
          }
        },
        {
          "output_type": "stream",
          "name": "stdout",
          "text": [
            "\n"
          ]
        }
      ]
    },
    {
      "cell_type": "markdown",
      "metadata": {
        "id": "3-TjeLX3EGE3"
      },
      "source": [
        "## Αφαίρεση stopwords"
      ]
    },
    {
      "cell_type": "code",
      "metadata": {
        "id": "ZAInrHIwZyeM"
      },
      "source": [
        "s_true_frame = true_frame.copy()\n",
        "s_fake_frame = fake_frame.copy()\n",
        "for i in range(len(true_frame)):\n",
        "  for j in range(2):#title and text\n",
        "    s_true_frame.iat[i,j] = remove_stopwords(true_frame.iat[i,j])\n",
        "for i in range(len(fake_frame)):\n",
        "  for j in range(2):\n",
        "    s_fake_frame.iat[i,j] = remove_stopwords(fake_frame.iat[i,j])"
      ],
      "execution_count": null,
      "outputs": []
    },
    {
      "cell_type": "markdown",
      "metadata": {
        "id": "oexWCFUJD-OP"
      },
      "source": [
        "## Titles μέτα την αφαίρεση stopwords"
      ]
    },
    {
      "cell_type": "code",
      "metadata": {
        "colab": {
          "base_uri": "https://localhost:8080/",
          "height": 112
        },
        "id": "qDifO94bCxNr",
        "outputId": "dd344cba-938e-4886-d0bd-99706c9b76f6"
      },
      "source": [
        "count_frame = pd.DataFrame(columns=['News Title', 'Median of characters'])\n",
        "s_true_title_med = int(s_true_frame.title.str.len().median())\n",
        "s_fake_title_med = int(s_fake_frame.title.str.len().median())\n",
        "count_frame.loc[0] = [\"True\", s_true_title_med]\n",
        "count_frame.loc[1] = [\"Fake\", s_fake_title_med]\n",
        "count_frame"
      ],
      "execution_count": null,
      "outputs": [
        {
          "output_type": "execute_result",
          "data": {
            "text/html": [
              "<div>\n",
              "<style scoped>\n",
              "    .dataframe tbody tr th:only-of-type {\n",
              "        vertical-align: middle;\n",
              "    }\n",
              "\n",
              "    .dataframe tbody tr th {\n",
              "        vertical-align: top;\n",
              "    }\n",
              "\n",
              "    .dataframe thead th {\n",
              "        text-align: right;\n",
              "    }\n",
              "</style>\n",
              "<table border=\"1\" class=\"dataframe\">\n",
              "  <thead>\n",
              "    <tr style=\"text-align: right;\">\n",
              "      <th></th>\n",
              "      <th>News Title</th>\n",
              "      <th>Median of characters</th>\n",
              "    </tr>\n",
              "  </thead>\n",
              "  <tbody>\n",
              "    <tr>\n",
              "      <th>0</th>\n",
              "      <td>True</td>\n",
              "      <td>55</td>\n",
              "    </tr>\n",
              "    <tr>\n",
              "      <th>1</th>\n",
              "      <td>Fake</td>\n",
              "      <td>69</td>\n",
              "    </tr>\n",
              "  </tbody>\n",
              "</table>\n",
              "</div>"
            ],
            "text/plain": [
              "  News Title Median of characters\n",
              "0       True                   55\n",
              "1       Fake                   69"
            ]
          },
          "metadata": {},
          "execution_count": 11
        }
      ]
    },
    {
      "cell_type": "markdown",
      "metadata": {
        "id": "0gtqR1u-ER-6"
      },
      "source": [
        "## Text μετά την αφαίρεση stopwords"
      ]
    },
    {
      "cell_type": "code",
      "metadata": {
        "colab": {
          "base_uri": "https://localhost:8080/",
          "height": 112
        },
        "id": "RAqKKlKcC7lB",
        "outputId": "70a9b71b-c905-4806-a730-79519148b762"
      },
      "source": [
        "count_frame = pd.DataFrame(columns=['News Text', 'Median of characters'])\n",
        "s_true_text_med = int(true_frame.text.str.len().median())\n",
        "s_fake_text_med = int(fake_frame.text.str.len().median())\n",
        "count_frame.loc[0] = [\"True\", s_true_text_med]\n",
        "count_frame.loc[1] = [\"Fake\", s_fake_text_med]\n",
        "count_frame"
      ],
      "execution_count": null,
      "outputs": [
        {
          "output_type": "execute_result",
          "data": {
            "text/html": [
              "<div>\n",
              "<style scoped>\n",
              "    .dataframe tbody tr th:only-of-type {\n",
              "        vertical-align: middle;\n",
              "    }\n",
              "\n",
              "    .dataframe tbody tr th {\n",
              "        vertical-align: top;\n",
              "    }\n",
              "\n",
              "    .dataframe thead th {\n",
              "        text-align: right;\n",
              "    }\n",
              "</style>\n",
              "<table border=\"1\" class=\"dataframe\">\n",
              "  <thead>\n",
              "    <tr style=\"text-align: right;\">\n",
              "      <th></th>\n",
              "      <th>News Text</th>\n",
              "      <th>Median of characters</th>\n",
              "    </tr>\n",
              "  </thead>\n",
              "  <tbody>\n",
              "    <tr>\n",
              "      <th>0</th>\n",
              "      <td>True</td>\n",
              "      <td>2168</td>\n",
              "    </tr>\n",
              "    <tr>\n",
              "      <th>1</th>\n",
              "      <td>Fake</td>\n",
              "      <td>2149</td>\n",
              "    </tr>\n",
              "  </tbody>\n",
              "</table>\n",
              "</div>"
            ],
            "text/plain": [
              "  News Text Median of characters\n",
              "0      True                 2168\n",
              "1      Fake                 2149"
            ]
          },
          "metadata": {},
          "execution_count": 12
        }
      ]
    },
    {
      "cell_type": "markdown",
      "metadata": {
        "id": "uF3LLvGM_RQP"
      },
      "source": [
        "## Διαγράμματα μετά την αφαίρεση stopwords"
      ]
    },
    {
      "cell_type": "markdown",
      "metadata": {
        "id": "VIU2cxFKHhAo"
      },
      "source": [
        "### Titles"
      ]
    },
    {
      "cell_type": "code",
      "metadata": {
        "colab": {
          "base_uri": "https://localhost:8080/",
          "height": 297
        },
        "id": "-hvp6i0Q_bjY",
        "outputId": "917fa049-054f-4488-8dd0-bdb4fb5bc088"
      },
      "source": [
        "s = s_true_frame.title.groupby(s_true_frame.title.str.len()).count()\n",
        "x = list(s.index)\n",
        "y = list(s_true_frame.title.groupby(s_true_frame.title.str.len()).count())\n",
        "plt.plot(x,y, '.', color=\"lime\", label = \"True News\")\n",
        "\n",
        "s = s_fake_frame.title.groupby(s_fake_frame.title.str.len()).count()\n",
        "x = list(s.index)\n",
        "y = list(s_fake_frame.title.groupby(s_fake_frame.title.str.len()).count())\n",
        "plt.plot(x,y, \".\", color=\"red\", label = \"Fake News\")\n",
        "\n",
        "plt.ylabel(\"News Number\")\n",
        "plt.xlabel(\"Character Count\")\n",
        "plt.axvline(s_true_title_med, 0, 1, color=\"green\", label=\"True Average\")\n",
        "plt.axvline(s_fake_title_med, 0, 1, color=\"brown\", label=\"Fake Average\")\n",
        "plt.legend(loc=\"upper right\")\n",
        "plt.show()\n",
        "print()"
      ],
      "execution_count": null,
      "outputs": [
        {
          "output_type": "display_data",
          "data": {
            "image/png": "[encoded data removed]",
            "text/plain": [
              "<Figure size 432x288 with 1 Axes>"
            ]
          },
          "metadata": {
            "needs_background": "light"
          }
        },
        {
          "output_type": "stream",
          "name": "stdout",
          "text": [
            "\n"
          ]
        }
      ]
    },
    {
      "cell_type": "markdown",
      "metadata": {
        "id": "jwENaUD4Hi8F"
      },
      "source": [
        "### Text"
      ]
    },
    {
      "cell_type": "code",
      "metadata": {
        "colab": {
          "base_uri": "https://localhost:8080/",
          "height": 578
        },
        "id": "9usagYmcHkYb",
        "outputId": "ce02bd1b-619e-4f12-94bf-d7a07a3d5fce"
      },
      "source": [
        "s = s_true_frame.text.groupby(s_true_frame.text.str.len()).count()\n",
        "x = list(s.index)\n",
        "y = list(s_true_frame.text.groupby(s_true_frame.text.str.len()).count())\n",
        "rolling_mean = s.rolling(window=50).mean()\n",
        "\n",
        "plt.plot(x,y, \".\", color=\"lime\", label='True News')\n",
        "plt.plot(x,rolling_mean, color=\"green\", label='±50 Character Average')\n",
        "plt.axvline(s_true_text_med, 0, 1, color=\"black\", label=\"Average\")\n",
        "plt.ylabel(\"News Number\")\n",
        "plt.xlabel(\"Character Count\")\n",
        "plt.legend(loc='upper right')\n",
        "plt.show()\n",
        "print()\n",
        "\n",
        "s = s_fake_frame.text.groupby(s_fake_frame.text.str.len()).count()\n",
        "x = list(s.index)\n",
        "y = list(s_fake_frame.text.groupby(s_fake_frame.text.str.len()).count())\n",
        "rolling_mean = s.rolling(window=50).mean()\n",
        "\n",
        "plt.plot(x,y, \".\", color=\"red\", label='False News')\n",
        "plt.plot(x,rolling_mean, color=\"black\", label='±50 Character Average')\n",
        "plt.axvline(s_fake_text_med, 0, 1, color=\"black\", label=\"Average\")\n",
        "plt.ylabel(\"News Number\")\n",
        "plt.xlabel(\"Character Count\")\n",
        "plt.legend(loc='upper right')\n",
        "plt.show()\n",
        "print()"
      ],
      "execution_count": null,
      "outputs": [
        {
          "output_type": "display_data",
          "data": {
            "image/png": "[encoded data removed]",
            "text/plain": [
              "<Figure size 432x288 with 1 Axes>"
            ]
          },
          "metadata": {
            "needs_background": "light"
          }
        },
        {
          "output_type": "stream",
          "name": "stdout",
          "text": [
            "\n"
          ]
        },
        {
          "output_type": "display_data",
          "data": {
            "image/png": "[encoded data removed]",
            "text/plain": [
              "<Figure size 432x288 with 1 Axes>"
            ]
          },
          "metadata": {
            "needs_background": "light"
          }
        },
        {
          "output_type": "stream",
          "name": "stdout",
          "text": [
            "\n"
          ]
        }
      ]
    },
    {
      "cell_type": "markdown",
      "metadata": {
        "id": "9lxjIy413kC-"
      },
      "source": [
        "# Most common bigrams"
      ]
    },
    {
      "cell_type": "markdown",
      "metadata": {
        "id": "-3ILDMVN3nh9"
      },
      "source": [
        "## True News"
      ]
    },
    {
      "cell_type": "code",
      "metadata": {
        "colab": {
          "base_uri": "https://localhost:8080/"
        },
        "id": "dTS7Bk6KuU5o",
        "outputId": "77a29178-d47f-4e73-b40d-d01ab38789f8"
      },
      "source": [
        "print('Top 10 True News bigrams in:')\n",
        "pt=[]#idio prama alla kai gia BOW kai tf-idf,gia text kai title\n",
        "for i,model in enumerate([CountVectorizer(ngram_range=(2,2), max_features=10, binary=True),TfidfVectorizer(ngram_range=(2,2), max_features=10)]):\n",
        "  pt.append(pd.DataFrame(columns=['Title', 'Text']))\n",
        "  dataset = list(s_true_frame['title'])\n",
        "  v = model\n",
        "  v.fit_transform(dataset)\n",
        "  t1 = v.get_feature_names_out()\n",
        "\n",
        "  dataset = list(s_true_frame['text'])\n",
        "  v = model\n",
        "  v.fit_transform(dataset)\n",
        "  t2 = v.get_feature_names_out()\n",
        "\n",
        "  for j in range(len(t1)):\n",
        "      pt[i].loc[j] = (t1[j],t2[j])\n",
        "  pt[i].index+=1\n",
        "  print(pt[i])\n"
      ],
      "execution_count": null,
      "outputs": [
        {
          "output_type": "stream",
          "name": "stdout",
          "text": [
            "Top 10 True News bigrams in:\n",
            "                   Title                Text\n",
            "1          islamic state        barack obama\n",
            "2            north korea        donald trump\n",
            "3            puerto rico            new york\n",
            "4             says trump    president barack\n",
            "5            south korea    president donald\n",
            "6          supreme court      prime minister\n",
            "7             travel ban      said statement\n",
            "8   trump administration       united states\n",
            "9             trump says  washington reuters\n",
            "10           white house         white house\n",
            "                   Title                Text\n",
            "1          islamic state        donald trump\n",
            "2            north korea            new york\n",
            "3            puerto rico         north korea\n",
            "4             says trump    president donald\n",
            "5            south korea      prime minister\n",
            "6          supreme court      said statement\n",
            "7             travel ban          trump said\n",
            "8   trump administration       united states\n",
            "9             trump says  washington reuters\n",
            "10           white house         white house\n"
          ]
        }
      ]
    },
    {
      "cell_type": "markdown",
      "metadata": {
        "id": "Dfj5ZTu33pDT"
      },
      "source": [
        "## Fake News"
      ]
    },
    {
      "cell_type": "code",
      "metadata": {
        "colab": {
          "base_uri": "https://localhost:8080/"
        },
        "id": "LPYgbMWzyEVd",
        "outputId": "c0332f28-062b-4859-f5f6-1187f285b4ed"
      },
      "source": [
        "print('Top 10 fake News bigrams in:')\n",
        "pf=[]\n",
        "for i,model in enumerate([CountVectorizer(ngram_range=(2,2), max_features=10, binary=True),TfidfVectorizer(ngram_range=(1,2), max_features=10)]):\n",
        "  pf.append(pd.DataFrame(columns=['Title', 'Text']))\n",
        "  dataset = list(s_fake_frame['title'])\n",
        "  v = model\n",
        "  v.fit_transform(dataset)\n",
        "  t1 = v.get_feature_names_out()\n",
        "\n",
        "  dataset = list(s_fake_frame['text'])\n",
        "  v = model\n",
        "  v.fit_transform(dataset)\n",
        "  t2 = v.get_feature_names_out()\n",
        "\n",
        "  for j in range(len(t1)):\n",
        "      pf[i].loc[j] = (t1[j],t2[j])\n",
        "  pf[i].index+=1\n",
        "  print(pf[i])\n"
      ],
      "execution_count": null,
      "outputs": [
        {
          "output_type": "stream",
          "name": "stdout",
          "text": [
            "Top 10 fake News bigrams in:\n",
            "              Title             Text\n",
            "1        anti trump     donald trump\n",
            "2    bernie sanders   featured image\n",
            "3       boiler room     getty images\n",
            "4      donald trump  hillary clinton\n",
            "5          fox news         new york\n",
            "6   hillary clinton      pic twitter\n",
            "7   president trump  president trump\n",
            "8          ted cruz      twitter com\n",
            "9       trump video    united states\n",
            "10      white house      white house\n",
            "        Title          Text\n",
            "1       black       clinton\n",
            "2    breaking        donald\n",
            "3     clinton  donald trump\n",
            "4     hillary          like\n",
            "5         new          news\n",
            "6       obama         obama\n",
            "7   president        people\n",
            "8       trump     president\n",
            "9       video          said\n",
            "10      watch         trump\n"
          ]
        }
      ]
    },
    {
      "cell_type": "markdown",
      "metadata": {
        "id": "llntol1kFiph"
      },
      "source": [
        "# ΔΗΜΙΟΥΡΓΙΑ CSV\n",
        "το προγραμμα κρασαρει στο word2vec αν περαστουν ολοκληρα τα csv στα train k' test. εδω περναμε το 70% των true,false και φτιαχνουμε παραμετρους οπως το max_iter στις συναρτησεις παρακατω ωστε να μην γινεται overflow\n",
        "\n",
        "αγνοηστε τα warnings"
      ]
    },
    {
      "cell_type": "code",
      "metadata": {
        "colab": {
          "base_uri": "https://localhost:8080/"
        },
        "id": "vXZngqXUFr9m",
        "outputId": "78adeae5-eb56-40ca-e93d-1b4fe1a9c941"
      },
      "source": [
        "true_train = true_frame.iloc[:8000, :]#int(len(true_frame)/2)\n",
        "true_train['label']=1\n",
        "true_test = true_frame.iloc[8000:16000, :]\n",
        "true_test['label']=1\n",
        "fake_train = fake_frame.iloc[:8000, :]#int(len(fake_frame)/2)\n",
        "fake_train['label']=0\n",
        "fake_test = fake_frame.iloc[8000:16000, :]\n",
        "fake_test['label']=0\n",
        "# print(pd.concat([fake_train,true_train],ignore_index=True))\n",
        "# print(pd.concat([fake_test,true_test],ignore_index=True))\n",
        "pd.concat([fake_train,true_train],ignore_index=True).to_csv(path + 'train.csv')\n",
        "pd.concat([fake_test,true_test],ignore_index=True).to_csv(path + 'test.csv')\n"
      ],
      "execution_count": null,
      "outputs": [
        {
          "output_type": "stream",
          "name": "stderr",
          "text": [
            "/usr/local/lib/python3.7/dist-packages/ipykernel_launcher.py:2: SettingWithCopyWarning: \n",
            "A value is trying to be set on a copy of a slice from a DataFrame.\n",
            "Try using .loc[row_indexer,col_indexer] = value instead\n",
            "\n",
            "See the caveats in the documentation: https://pandas.pydata.org/pandas-docs/stable/user_guide/indexing.html#returning-a-view-versus-a-copy\n",
            "  \n",
            "/usr/local/lib/python3.7/dist-packages/ipykernel_launcher.py:4: SettingWithCopyWarning: \n",
            "A value is trying to be set on a copy of a slice from a DataFrame.\n",
            "Try using .loc[row_indexer,col_indexer] = value instead\n",
            "\n",
            "See the caveats in the documentation: https://pandas.pydata.org/pandas-docs/stable/user_guide/indexing.html#returning-a-view-versus-a-copy\n",
            "  after removing the cwd from sys.path.\n",
            "/usr/local/lib/python3.7/dist-packages/ipykernel_launcher.py:6: SettingWithCopyWarning: \n",
            "A value is trying to be set on a copy of a slice from a DataFrame.\n",
            "Try using .loc[row_indexer,col_indexer] = value instead\n",
            "\n",
            "See the caveats in the documentation: https://pandas.pydata.org/pandas-docs/stable/user_guide/indexing.html#returning-a-view-versus-a-copy\n",
            "  \n",
            "/usr/local/lib/python3.7/dist-packages/ipykernel_launcher.py:8: SettingWithCopyWarning: \n",
            "A value is trying to be set on a copy of a slice from a DataFrame.\n",
            "Try using .loc[row_indexer,col_indexer] = value instead\n",
            "\n",
            "See the caveats in the documentation: https://pandas.pydata.org/pandas-docs/stable/user_guide/indexing.html#returning-a-view-versus-a-copy\n",
            "  \n"
          ]
        }
      ]
    },
    {
      "cell_type": "markdown",
      "metadata": {
        "id": "c6kxsM8sUkX5"
      },
      "source": [
        "# Classification"
      ]
    },
    {
      "cell_type": "code",
      "metadata": {
        "colab": {
          "base_uri": "https://localhost:8080/"
        },
        "id": "3RdhXLZxceO5",
        "outputId": "c9f43e53-7c76-4271-e378-773be8c9301c"
      },
      "source": [
        "traindf=pd.read_csv(path + 'train.csv')\n",
        "testdf=pd.read_csv(path + 'test.csv')#to test einai kapoia nan gia kapoio logo\n",
        "results = []\n",
        "trainlabel = np.asarray(traindf['label'])#extract true-false label\n",
        "testlabel=np.asarray(testdf['label'])\n",
        "for i,vectorizer in enumerate([CountVectorizer(ngram_range=(2,2), max_features=200),TfidfVectorizer(ngram_range=(1,2), max_features=10)]):#ngram_range has varying results\n",
        "  dataset=traindf.text\n",
        "  X1 = vectorizer.fit_transform(dataset)\n",
        "  traindata=X1.toarray() #make a 2d array of with the frequencies of the word ngrams\n",
        "  means = np.mean(traindata, axis=0)\n",
        "  stds = np.std(traindata, axis=0)\n",
        "  traindata = (traindata - means)/stds #optimises the vector\n",
        "  dataset=testdf.text #same for test\n",
        "  X1 = vectorizer.transform(dataset)\n",
        "  testdata=X1.toarray()\n",
        "  # print(traindata)\n",
        "  means = np.mean(testdata, axis=0)\n",
        "  stds = np.std(testdata, axis=0)\n",
        "  testdata = (testdata - means)/stds #these vectorizer method calculations dont need to be repeated for each clustering algorithm below\n",
        "  # print(testdata)\n",
        "  if i==0: print(\"CountVectorizer\")\n",
        "  elif i==1: print(\"TfidfVectorizer\")\n",
        "  print(\"------------------\")\n",
        "  for name, model in zip([\"LogisticRegression\",\"GaussianNB\",\"SVC\",\"RandomForestClassifier\"],[LogisticRegression(max_iter=200),GaussianNB(),svm.SVC(),RandomForestClassifier( random_state=0)]):\n",
        "    model.fit(traindata,trainlabel) #execute each clustering method\n",
        "    accuracy = model.score(testdata, testlabel) # grade how much the content of the test text set,based on the training, corresponds it's true label\n",
        "    y_pred=model.predict(testdata) # experimentaly predict the label based on our training and compare it to the true label\n",
        "    print(name)\n",
        "    print(\"accuracy = \", accuracy * 100, \"%\")\n",
        "    accuracy = model.score(traindata, trainlabel) # grade how much the content of the test text set,based on the training, corresponds it's true label\n",
        "    print(\"accuracy on training data = \", accuracy * 100, \"%\")\n",
        "    print(\"f1 score = \", f1_score(testlabel,y_pred) * 100, \"%\")\n",
        "    y_pred=model.predict(traindata) # experimentaly predict the label based on our training and compare it to the true label\n",
        "    print(\"f1 score on training data = \", f1_score(trainlabel,y_pred) * 100, \"%\")\n",
        "    print()\n",
        "    results.append((accuracy*100,f1_score(testlabel,y_pred) * 100))"
      ],
      "execution_count": null,
      "outputs": [
        {
          "output_type": "stream",
          "name": "stdout",
          "text": [
            "CountVectorizer\n",
            "------------------\n",
            "LogisticRegression\n",
            "accuracy =  83.73125 %\n",
            "accuracy on training data =  99.79375 %\n",
            "f1 score =  81.81627663290254 %\n",
            "f1 score on training data =  99.79389169945662 %\n",
            "\n",
            "GaussianNB\n",
            "accuracy =  61.275 %\n",
            "accuracy on training data =  99.05625 %\n",
            "f1 score =  36.827079934747154 %\n",
            "f1 score on training data =  99.06158722267105 %\n",
            "\n",
            "SVC\n",
            "accuracy =  86.99375 %\n",
            "accuracy on training data =  99.8625 %\n",
            "f1 score =  86.93085473842869 %\n",
            "f1 score on training data =  99.86263736263736 %\n",
            "\n",
            "RandomForestClassifier\n",
            "accuracy =  73.74374999999999 %\n",
            "accuracy on training data =  100.0 %\n",
            "f1 score =  79.09013986362054 %\n",
            "f1 score on training data =  100.0 %\n",
            "\n",
            "TfidfVectorizer\n",
            "------------------\n",
            "LogisticRegression\n",
            "accuracy =  70.2625 %\n",
            "accuracy on training data =  81.8875 %\n",
            "f1 score =  70.51679266327923 %\n",
            "f1 score on training data =  82.02010174959673 %\n",
            "\n",
            "GaussianNB\n",
            "accuracy =  67.07499999999999 %\n",
            "accuracy on training data =  80.40625 %\n",
            "f1 score =  66.50559511698881 %\n",
            "f1 score on training data =  80.40012503907472 %\n",
            "\n",
            "SVC\n",
            "accuracy =  69.31875 %\n",
            "accuracy on training data =  85.06875000000001 %\n",
            "f1 score =  71.69136727985699 %\n",
            "f1 score on training data =  85.3282564637966 %\n",
            "\n",
            "RandomForestClassifier\n",
            "accuracy =  70.81875 %\n",
            "accuracy on training data =  100.0 %\n",
            "f1 score =  72.21990837151188 %\n",
            "f1 score on training data =  100.0 %\n",
            "\n"
          ]
        }
      ]
    },
    {
      "cell_type": "markdown",
      "metadata": {
        "id": "z9fKUN2TinXZ"
      },
      "source": [
        "πειραματιστηκαμε με αυτα τα c και gamma αλλα δεν βελτιωσαν την ακριβεια μας\n"
      ]
    },
    {
      "cell_type": "code",
      "metadata": {
        "id": "j8ZZ3_XhJq0d"
      },
      "source": [
        "# PROXEIRO\n",
        "# C_2d_range = [1e-2, 1, 1e2]\n",
        "# gamma_2d_range = [1e-1, 1, 1e1]\n",
        "# classifiers = []\n",
        "# for C in C_2d_range:\n",
        "#     for gamma in gamma_2d_range:\n",
        "#         clf = SVC(C=C, gamma=gamma,kernel='linear')\n",
        "#         clf.fit(X_2d, y_2d)\n",
        "#         classifiers.append((C, gamma, clf))"
      ],
      "execution_count": null,
      "outputs": []
    },
    {
      "cell_type": "markdown",
      "metadata": {
        "id": "G3tkRd1hg6s9"
      },
      "source": [
        "# Classification with Word2Vec\n",
        "εδω κανουμε τα ιδια αλλα για τον 2d array των simililarities επειδη η συναρτηση get_normed_vectors() που μας δινει το smilirity vector των n λεξεων του document δεν υποστηριζεται στο google colab φτιαχνουμε αυτον τον πινακα μονοι μας\n",
        "\n",
        "το tokens ειναι ολα τα text σε λιστα,το record ενα node της λιστας (text προταση split-αρισμενη) το word ειναι ενα κομματι της split προτασης και για καθε τετοια word περνουμε ενα πινακα καταληγωντας σε εναν 2d array traindata\n",
        "για n λεξεις\n",
        "\n",
        "εφοσον τα αποτελεσματα μας με το word2vec εχουν τοσο μεγαλη ακριβεια το παραθετουμε σαν την ασκηση 3 μας(το bonus)\n",
        "https://stackoverflow.com/questions/49643974/how-to-do-text-classification-using-word2vec"
      ]
    },
    {
      "cell_type": "code",
      "metadata": {
        "id": "ZuVxvxioYn6G",
        "colab": {
          "base_uri": "https://localhost:8080/"
        },
        "outputId": "ca89da2a-8200-4c14-da2a-0a0b65515e02"
      },
      "source": [
        "sentences = pd.concat([traindf.text,testdf.text],ignore_index=True)\n",
        "nltk.download('punkt')\n",
        "# simple tokenization\n",
        "tokens = [nltk.word_tokenize(sentence) for sentence in sentences]\n",
        "\n",
        "w2vmodel = Word2Vec(tokens,\n",
        "                    seed=32,\n",
        "                    negative=5,\n",
        "                    sg=0,\n",
        "                    min_count=1,\n",
        "                    window=1)\n",
        "\n",
        "w2vmodel.build_vocab(tokens, update=True)  # prepare the model vocabulary\n",
        "w2vmodel.train(tokens, total_examples=len(tokens), epochs=2)\n",
        "train_tokens = [nltk.word_tokenize(sentences) for sentences in traindf.text ]\n",
        "test_tokens = [nltk.word_tokenize(sentences) for sentences in testdf.text]"
      ],
      "execution_count": null,
      "outputs": [
        {
          "output_type": "stream",
          "name": "stdout",
          "text": [
            "[nltk_data] Downloading package punkt to /root/nltk_data...\n",
            "[nltk_data]   Package punkt is already up-to-date!\n"
          ]
        }
      ]
    },
    {
      "cell_type": "code",
      "metadata": {
        "id": "dskRMbalU76X",
        "colab": {
          "base_uri": "https://localhost:8080/"
        },
        "outputId": "514a5673-81e9-401f-e47c-8b2a7f766fb5"
      },
      "source": [
        "traindata = [np.array([w2vmodel.wv.get_vector(word) for word in record]).mean(axis=0) for record in train_tokens]\n",
        "testdata = [np.array([w2vmodel.wv.get_vector(word)  for word in record]).mean(axis=0) for record in test_tokens]\n",
        "for name, model in zip([\"LogisticRegression\",\"GaussianNB\",\"SVC\",\"RandomForestClassifier\"],[LogisticRegression(max_iter=200),GaussianNB(),svm.SVC(),RandomForestClassifier( random_state=0)]):\n",
        "  model.fit(traindata,trainlabel)\n",
        "  accuracy = model.score(testdata, testlabel)\n",
        "  y_pred=model.predict(testdata)\n",
        "  print(name)\n",
        "  print(\"accuracy = \", accuracy * 100, \"%\")\n",
        "  print(\"f1 score = \", f1_score(testlabel,y_pred) * 100, \"%\")\n",
        "  print()\n",
        "  results.append((accuracy*100,f1_score(testlabel,y_pred) * 100))"
      ],
      "execution_count": null,
      "outputs": [
        {
          "output_type": "stream",
          "name": "stdout",
          "text": [
            "LogisticRegression\n",
            "accuracy =  88.46875 %\n",
            "f1 score =  89.34326806446023 %\n",
            "\n",
            "GaussianNB\n",
            "accuracy =  78.48125 %\n",
            "f1 score =  81.10629424353839 %\n",
            "\n",
            "SVC\n",
            "accuracy =  87.60625 %\n",
            "f1 score =  88.69505729433898 %\n",
            "\n",
            "RandomForestClassifier\n",
            "accuracy =  85.66875 %\n",
            "f1 score =  86.95305832147938 %\n",
            "\n"
          ]
        }
      ]
    }
  ]
}